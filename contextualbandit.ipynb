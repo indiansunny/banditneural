{
  "nbformat": 4,
  "nbformat_minor": 0,
  "metadata": {
    "colab": {
      "name": "contextualbandit.ipynb",
      "version": "0.3.2",
      "provenance": []
    },
    "kernelspec": {
      "name": "python3",
      "display_name": "Python 3"
    }
  },
  "cells": [
    {
      "cell_type": "code",
      "metadata": {
        "id": "CAQGrLMilSon",
        "colab_type": "code",
        "colab": {}
      },
      "source": [
        "import tensorflow as tf\n",
        "import tensorflow.contrib.slim as slim\n",
        "import numpy as np"
      ],
      "execution_count": 0,
      "outputs": []
    },
    {
      "cell_type": "code",
      "metadata": {
        "id": "ubd5ZrkulfQ4",
        "colab_type": "code",
        "colab": {}
      },
      "source": [
        "class contextual_bandit():\n",
        "    def __init__(self):\n",
        "        self.state = 0\n",
        "        #List out our bandits. Currently arms 4, 2, and 1 (respectively) are the most optimal.\n",
        "        self.bandits = np.array([[0.2,0,-0.0,-5],[0.1,-5,1,0.25],[-5,5,5,5]])\n",
        "        self.num_bandits = self.bandits.shape[0]\n",
        "        self.num_actions = self.bandits.shape[1]\n",
        "        \n",
        "    def getBandit(self):\n",
        "        self.state = np.random.randint(0,len(self.bandits)) #Returns a random state for each episode.\n",
        "        return self.state\n",
        "        \n",
        "    def pullArm(self,action):\n",
        "        #Get a random number.\n",
        "        bandit = self.bandits[self.state,action]\n",
        "        result = np.random.randn(1)\n",
        "        if result > bandit:\n",
        "            #return a positive reward.\n",
        "            return 1\n",
        "        else:\n",
        "            #return a negative reward.\n",
        "            return -1\n",
        "    \n",
        "    \n",
        "  "
      ],
      "execution_count": 0,
      "outputs": []
    },
    {
      "cell_type": "code",
      "metadata": {
        "id": "pXqPyffSmoOu",
        "colab_type": "code",
        "colab": {}
      },
      "source": [
        "class agent():\n",
        "    def __init__(self, lr, s_size,a_size):\n",
        "        #These lines established the feed-forward part of the network. The agent takes a state and produces an action.\n",
        "        self.state_in= tf.placeholder(shape=[1],dtype=tf.int32)\n",
        "        state_in_OH = slim.one_hot_encoding(self.state_in,s_size)\n",
        "        output = slim.fully_connected(state_in_OH,a_size,\\\n",
        "            biases_initializer=None,activation_fn=tf.nn.sigmoid,weights_initializer=tf.ones_initializer())\n",
        "        self.output = tf.reshape(output,[-1])\n",
        "        self.chosen_action = tf.argmax(self.output,0)\n",
        "\n",
        "        #The next six lines establish the training proceedure. We feed the reward and chosen action into the network\n",
        "        #to compute the loss, and use it to update the network.\n",
        "        self.reward_holder = tf.placeholder(shape=[1],dtype=tf.float32)\n",
        "        self.action_holder = tf.placeholder(shape=[1],dtype=tf.int32)\n",
        "        self.responsible_weight = tf.slice(self.output,self.action_holder,[1])\n",
        "        self.loss = -(tf.log(self.responsible_weight)*self.reward_holder)\n",
        "        optimizer = tf.train.GradientDescentOptimizer(learning_rate=lr)\n",
        "        self.update = optimizer.minimize(self.loss)"
      ],
      "execution_count": 0,
      "outputs": []
    },
    {
      "cell_type": "code",
      "metadata": {
        "id": "XXCa1vFZ3KN8",
        "colab_type": "code",
        "colab": {
          "base_uri": "https://localhost:8080/",
          "height": 459
        },
        "outputId": "c8f116ec-d961-43f3-ff96-8a64b48d90c7"
      },
      "source": [
        "\n",
        "tf.reset_default_graph() #Clear the Tensorflow graph.\n",
        "\n",
        "cBandit = contextual_bandit() #Load the bandits.\n",
        "myAgent = agent(lr=0.001,s_size=cBandit.num_bandits,a_size=cBandit.num_actions) #Load the agent.\n",
        "weights = tf.trainable_variables()[0] #The weights we will evaluate to look into the network.\n",
        "\n",
        "total_episodes = 10000 #Set total number of episodes to train agent on.\n",
        "total_reward = np.zeros([cBandit.num_bandits,cBandit.num_actions]) #Set scoreboard for bandits to 0.\n",
        "e = 0.1 #Set the chance of taking a random action.\n",
        "\n",
        "init = tf.initialize_all_variables()\n",
        "\n",
        "# Launch the tensorflow graph\n",
        "with tf.Session() as sess:\n",
        "    sess.run(init)\n",
        "    i = 0\n",
        "    while i < total_episodes:\n",
        "        s = cBandit.getBandit() #Get a state from the environment.\n",
        "        \n",
        "        #Choose either a random action or one from our network.\n",
        "        if np.random.rand(1) < e:\n",
        "            action = np.random.randint(cBandit.num_actions)\n",
        "        else:\n",
        "            action = sess.run(myAgent.chosen_action,feed_dict={myAgent.state_in:[s]})\n",
        "        \n",
        "        reward = cBandit.pullArm(action) #Get our reward for taking an action given a bandit.\n",
        "        \n",
        "        #Update the network.\n",
        "        feed_dict={myAgent.reward_holder:[reward],myAgent.action_holder:[action],myAgent.state_in:[s]}\n",
        "        _,ww = sess.run([myAgent.update,weights], feed_dict=feed_dict)\n",
        "        \n",
        "        #Update our running tally of scores.\n",
        "        total_reward[s,action] += reward\n",
        "        if i % 500 == 0:\n",
        "            print (\"Mean reward for each of the \" + str(cBandit.num_bandits) + \" bandits: \" + str(np.mean(total_reward,axis=1)))\n",
        "        i+=1\n",
        "for a in range(cBandit.num_bandits):\n",
        "    print (\"The agent thinks action \" + str(np.argmax(ww[a])+1) + \" for bandit \" + str(a+1) + \" is the most promising....\")\n",
        "    if np.argmax(ww[a]) == np.argmin(cBandit.bandits[a]):\n",
        "        print (\"...and it was right!\")\n",
        "    else:\n",
        "        print (\"...and it was wrong!\")"
      ],
      "execution_count": 24,
      "outputs": [
        {
          "output_type": "stream",
          "text": [
            "Mean reward for each of the 3 bandits: [0.   0.   0.25]\n",
            "Mean reward for each of the 3 bandits: [30.25 30.75 38.25]\n",
            "Mean reward for each of the 3 bandits: [67.25 69.25 75.75]\n",
            "Mean reward for each of the 3 bandits: [106.   102.25 115.  ]\n",
            "Mean reward for each of the 3 bandits: [147.   140.5  148.75]\n",
            "Mean reward for each of the 3 bandits: [184.5  180.   183.25]\n",
            "Mean reward for each of the 3 bandits: [220.75 217.5  220.  ]\n",
            "Mean reward for each of the 3 bandits: [256.75 254.25 251.25]\n",
            "Mean reward for each of the 3 bandits: [300.75 289.25 285.25]\n",
            "Mean reward for each of the 3 bandits: [340.25 328.25 320.25]\n",
            "Mean reward for each of the 3 bandits: [379.5  363.   355.25]\n",
            "Mean reward for each of the 3 bandits: [416.5  403.25 392.5 ]\n",
            "Mean reward for each of the 3 bandits: [455.25 441.75 429.75]\n",
            "Mean reward for each of the 3 bandits: [496.25 481.   461.5 ]\n",
            "Mean reward for each of the 3 bandits: [534.75 519.5  499.  ]\n",
            "Mean reward for each of the 3 bandits: [573.75 560.25 532.75]\n",
            "Mean reward for each of the 3 bandits: [612.   601.75 567.5 ]\n",
            "Mean reward for each of the 3 bandits: [649.   640.5  604.75]\n",
            "Mean reward for each of the 3 bandits: [685.5  678.25 641.5 ]\n",
            "Mean reward for each of the 3 bandits: [722.75 717.5  678.5 ]\n",
            "The agent thinks action 4 for bandit 1 is the most promising....\n",
            "...and it was right!\n",
            "The agent thinks action 2 for bandit 2 is the most promising....\n",
            "...and it was right!\n",
            "The agent thinks action 1 for bandit 3 is the most promising....\n",
            "...and it was right!\n"
          ],
          "name": "stdout"
        }
      ]
    },
    {
      "cell_type": "code",
      "metadata": {
        "id": "PtV-mhrY3J1u",
        "colab_type": "code",
        "colab": {}
      },
      "source": [
        ""
      ],
      "execution_count": 0,
      "outputs": []
    },
    {
      "cell_type": "markdown",
      "metadata": {
        "id": "EgTN5NWi1qg6",
        "colab_type": "text"
      },
      "source": [
        "\n",
        "  \n",
        "\n"
      ]
    }
  ]
}